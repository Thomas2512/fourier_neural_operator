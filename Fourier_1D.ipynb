{
 "cells": [
  {
   "cell_type": "markdown",
   "id": "2f193517-7e57-4d94-8c62-5d99fd3d52e8",
   "metadata": {},
   "source": [
    "# Fourier Neural Operator 1D"
   ]
  },
  {
   "cell_type": "markdown",
   "id": "a1bc47c5-48c0-42ff-aa67-6d0e7aabb118",
   "metadata": {},
   "source": [
    "## Burgers equation"
   ]
  },
  {
   "cell_type": "markdown",
   "id": "a61a7ee9-8f67-428a-b155-1d9107aa8baa",
   "metadata": {},
   "source": [
    "---"
   ]
  },
  {
   "cell_type": "markdown",
   "id": "8b763c00-097f-4602-8959-6b1baca9103a",
   "metadata": {},
   "source": [
    "## Imports"
   ]
  },
  {
   "cell_type": "code",
   "execution_count": 1,
   "id": "575e8907-1a0e-464c-b866-963e31d1516a",
   "metadata": {},
   "outputs": [],
   "source": [
    "%load_ext autoreload\n",
    "%autoreload 2"
   ]
  },
  {
   "cell_type": "code",
   "execution_count": 2,
   "id": "3731a21e-935e-411b-a215-c9bd00e901f6",
   "metadata": {},
   "outputs": [],
   "source": [
    "import numpy as np\n",
    "import torch\n",
    "import torch.nn as nn\n",
    "import torch.nn.functional as F\n",
    "from torch.nn.parameter import Parameter\n",
    "import matplotlib.pyplot as plt\n",
    "\n",
    "import operator\n",
    "from functools import reduce\n",
    "from functools import partial\n",
    "from timeit import default_timer\n",
    "from utilities3 import *"
   ]
  },
  {
   "cell_type": "code",
   "execution_count": 3,
   "id": "e8dd9dd2-1c5f-496a-804e-ada61057e6e8",
   "metadata": {},
   "outputs": [],
   "source": [
    "torch.manual_seed(0)\n",
    "np.random.seed(0)\n"
   ]
  },
  {
   "cell_type": "code",
   "execution_count": 6,
   "id": "5bfefc66-4b5c-42e1-ae71-620e8e768c70",
   "metadata": {},
   "outputs": [],
   "source": [
    "import os\n",
    "from pprint import pprint\n",
    "\n",
    "from fourier_1d_for_nb import SpectralConv1d, FNO1d\n"
   ]
  },
  {
   "cell_type": "raw",
   "id": "61f85dee-a855-4fef-8040-f3a279cf165a",
   "metadata": {},
   "source": [
    "import torch\n",
    "from torch.utils import data\n",
    "import glob\n",
    "import numpy as np\n",
    "import re\n",
    "import h5py\n",
    "import sys\n",
    "import pdb\n",
    "import matplotlib.pyplot as plt\n",
    "from pprint import pprint\n",
    "\n",
    "\n",
    "import torch.nn as nn\n",
    "from scipy.integrate import solve_ivp\n",
    "from torch.utils.data import DataLoader\n",
    "from multiprocessing import Manager\n",
    "\n",
    "from thomas.generate import *\n",
    "from thomas.models import *\n",
    "from thomas.utils import *"
   ]
  },
  {
   "cell_type": "raw",
   "id": "062226c1-8e43-4369-b6be-f054582fd8b4",
   "metadata": {},
   "source": [
    "os.environ[\"CUDA_DEVICE_ORDER\"]=\"PCI_BUS_ID\"\n",
    "os.environ[\"CUDA_VISIBLE_DEVICES\"]=\"3\""
   ]
  },
  {
   "cell_type": "raw",
   "id": "86cf666e-8380-4deb-a404-ecf4952d280f",
   "metadata": {},
   "source": [
    "device = torch.device('cuda' if torch.cuda.is_available() else 'cpu')\n",
    "print('Using device:', device)\n",
    "\n",
    "if device=='cuda':\n",
    "    torch.cuda.set_device(3)\n",
    "    "
   ]
  },
  {
   "cell_type": "markdown",
   "id": "433640fb-9bab-410e-bc36-7ea4b00fe5f0",
   "metadata": {},
   "source": [
    "# Hyperparamètres"
   ]
  },
  {
   "cell_type": "code",
   "execution_count": 7,
   "id": "0ee862f6-c208-4ec2-b3dc-3f4c916040ec",
   "metadata": {},
   "outputs": [],
   "source": [
    "################################################################\n",
    "#  configurations\n",
    "################################################################\n",
    "ntrain = 1000\n",
    "ntest = 100\n",
    "\n",
    "sub = 2**3 #subsampling rate\n",
    "h = 2**13 // sub #total grid size divided by the subsampling rate\n",
    "s = h\n",
    "\n",
    "batch_size = 20\n",
    "learning_rate = 0.001\n",
    "\n",
    "epochs = 500\n",
    "step_size = 100\n",
    "gamma = 0.5\n",
    "\n",
    "modes = 16\n",
    "width = 64"
   ]
  },
  {
   "cell_type": "code",
   "execution_count": null,
   "id": "d1dd784e-1dd1-40ad-8849-1c0fc5adab6f",
   "metadata": {},
   "outputs": [],
   "source": []
  },
  {
   "cell_type": "markdown",
   "id": "a50e58cb-670a-4f00-a258-680e650ac4a0",
   "metadata": {},
   "source": [
    "## Loading Data"
   ]
  },
  {
   "cell_type": "code",
   "execution_count": 18,
   "id": "acf4ac18-d86e-489e-be5a-9f68d1eaa527",
   "metadata": {},
   "outputs": [],
   "source": [
    "################################################################\n",
    "# read data\n",
    "################################################################\n",
    "\n",
    "# Data is of the shape (number of samples, grid size)\n",
    "dataloader = MatReader('data/burgers_data_R10.mat')\n",
    "x_data = dataloader.read_field('a')[:,::sub]\n",
    "y_data = dataloader.read_field('u')[:,::sub]\n",
    "\n",
    "x_train = x_data[:ntrain,:]\n",
    "y_train = y_data[:ntrain,:]\n",
    "x_test = x_data[-ntest:,:]\n",
    "y_test = y_data[-ntest:,:]\n"
   ]
  },
  {
   "cell_type": "code",
   "execution_count": 19,
   "id": "db9607c6-8190-4269-870e-4cf5a248175d",
   "metadata": {},
   "outputs": [
    {
     "data": {
      "text/plain": [
       "torch.Size([1000, 1024])"
      ]
     },
     "execution_count": 19,
     "metadata": {},
     "output_type": "execute_result"
    }
   ],
   "source": [
    "x_train.shape"
   ]
  },
  {
   "cell_type": "code",
   "execution_count": 20,
   "id": "3b1b322f-f853-4104-8083-5a7cf354c971",
   "metadata": {},
   "outputs": [
    {
     "data": {
      "text/plain": [
       "tensor([[ 0.8354,  0.8348,  0.8340,  ...,  0.8364,  0.8362,  0.8359],\n",
       "        [ 0.4741,  0.4723,  0.4707,  ...,  0.4804,  0.4781,  0.4760],\n",
       "        [-0.3802, -0.3849, -0.3898,  ..., -0.3669, -0.3711, -0.3756],\n",
       "        ...,\n",
       "        [ 0.0938,  0.0969,  0.1002,  ...,  0.0856,  0.0882,  0.0909],\n",
       "        [ 0.4329,  0.4335,  0.4340,  ...,  0.4302,  0.4312,  0.4321],\n",
       "        [-0.5274, -0.5289, -0.5305,  ..., -0.5228, -0.5243, -0.5259]])"
      ]
     },
     "execution_count": 20,
     "metadata": {},
     "output_type": "execute_result"
    }
   ],
   "source": [
    "x_train"
   ]
  },
  {
   "cell_type": "code",
   "execution_count": null,
   "id": "fa9bfd40-b7f1-4a1d-a68d-2a110ef8eda2",
   "metadata": {},
   "outputs": [],
   "source": [
    "\n",
    "# cat the locations information\n",
    "grid = np.linspace(0, 1, s).reshape(1, s, 1)\n",
    "grid = torch.tensor(grid, dtype=torch.float)\n",
    "x_train = torch.cat([x_train.reshape(ntrain,s,1), grid.repeat(ntrain,1,1)], dim=2)\n",
    "x_test = torch.cat([x_test.reshape(ntest,s,1), grid.repeat(ntest,1,1)], dim=2)\n",
    "\n",
    "train_loader = torch.utils.data.DataLoader(torch.utils.data.TensorDataset(x_train, y_train), batch_size=batch_size, shuffle=True)\n",
    "test_loader = torch.utils.data.DataLoader(torch.utils.data.TensorDataset(x_test, y_test), batch_size=batch_size, shuffle=False)"
   ]
  },
  {
   "cell_type": "code",
   "execution_count": 16,
   "id": "5c62cb29-3bd0-4879-b0ec-016b3f61dc70",
   "metadata": {},
   "outputs": [
    {
     "data": {
      "text/plain": [
       "tensor([[[0.0000e+00],\n",
       "         [9.7752e-04],\n",
       "         [1.9550e-03],\n",
       "         ...,\n",
       "         [9.9804e-01],\n",
       "         [9.9902e-01],\n",
       "         [1.0000e+00]]])"
      ]
     },
     "execution_count": 16,
     "metadata": {},
     "output_type": "execute_result"
    }
   ],
   "source": [
    "grid"
   ]
  },
  {
   "cell_type": "code",
   "execution_count": 21,
   "id": "fd3def47-d6e6-4e40-ae08-b80aa99eb46d",
   "metadata": {},
   "outputs": [
    {
     "data": {
      "text/plain": [
       "torch.Size([1, 1024, 1])"
      ]
     },
     "execution_count": 21,
     "metadata": {},
     "output_type": "execute_result"
    }
   ],
   "source": [
    "grid.shape"
   ]
  },
  {
   "cell_type": "code",
   "execution_count": null,
   "id": "d5567b4b-d371-449c-882c-3191ca6ff871",
   "metadata": {},
   "outputs": [],
   "source": []
  },
  {
   "cell_type": "code",
   "execution_count": null,
   "id": "1835bbc4-0e21-4817-8cea-b3e2b17bcfaf",
   "metadata": {},
   "outputs": [],
   "source": []
  },
  {
   "cell_type": "code",
   "execution_count": null,
   "id": "fc47e535-9f5b-43e8-9e0c-eff406e2beb4",
   "metadata": {},
   "outputs": [],
   "source": []
  },
  {
   "cell_type": "code",
   "execution_count": 11,
   "id": "61ceb5e2-e1fa-4ec8-be5b-2930e4bbbb17",
   "metadata": {},
   "outputs": [
    {
     "data": {
      "text/plain": [
       "torch.Size([2048, 1024])"
      ]
     },
     "execution_count": 11,
     "metadata": {},
     "output_type": "execute_result"
    }
   ],
   "source": [
    "x_data.shape"
   ]
  },
  {
   "cell_type": "code",
   "execution_count": 12,
   "id": "a3154e43-3066-49ec-b7d5-55f0ea5bc11a",
   "metadata": {},
   "outputs": [
    {
     "data": {
      "text/plain": [
       "torch.Size([2048, 1024])"
      ]
     },
     "execution_count": 12,
     "metadata": {},
     "output_type": "execute_result"
    }
   ],
   "source": [
    "y_data.shape"
   ]
  },
  {
   "cell_type": "code",
   "execution_count": 13,
   "id": "2bcef664-81ab-4a43-be92-eb2c9d3dfc48",
   "metadata": {},
   "outputs": [
    {
     "data": {
      "text/plain": [
       "torch.Size([1000, 1024, 2])"
      ]
     },
     "execution_count": 13,
     "metadata": {},
     "output_type": "execute_result"
    }
   ],
   "source": [
    "x_train.shape"
   ]
  },
  {
   "cell_type": "code",
   "execution_count": 14,
   "id": "9fa2bbc6-dee5-4efc-896b-abc104b0806b",
   "metadata": {},
   "outputs": [
    {
     "data": {
      "text/plain": [
       "torch.Size([100, 1024, 2])"
      ]
     },
     "execution_count": 14,
     "metadata": {},
     "output_type": "execute_result"
    }
   ],
   "source": [
    "x_test.shape"
   ]
  },
  {
   "cell_type": "code",
   "execution_count": 22,
   "id": "e399116c-037d-483a-b6ca-7ee7ec5173ac",
   "metadata": {},
   "outputs": [
    {
     "data": {
      "text/plain": [
       "torch.Size([1000, 1024])"
      ]
     },
     "execution_count": 22,
     "metadata": {},
     "output_type": "execute_result"
    }
   ],
   "source": [
    "y_train.shape"
   ]
  },
  {
   "cell_type": "code",
   "execution_count": 23,
   "id": "042e01a3-cca9-4bbc-91ed-2314e58f87e3",
   "metadata": {},
   "outputs": [
    {
     "data": {
      "text/plain": [
       "torch.Size([100, 1024])"
      ]
     },
     "execution_count": 23,
     "metadata": {},
     "output_type": "execute_result"
    }
   ],
   "source": [
    "y_test.shape"
   ]
  },
  {
   "cell_type": "code",
   "execution_count": null,
   "id": "b618cd2e-2195-4f1c-9eea-73ca5491ff45",
   "metadata": {},
   "outputs": [],
   "source": []
  },
  {
   "cell_type": "code",
   "execution_count": null,
   "id": "6481868e-7589-46fa-a62c-fe505faa46e3",
   "metadata": {},
   "outputs": [],
   "source": []
  },
  {
   "cell_type": "code",
   "execution_count": null,
   "id": "dbb82bb1-05ad-4749-be32-776ae4bff80b",
   "metadata": {},
   "outputs": [],
   "source": [
    "# model\n",
    "model = FNO1d(modes, width).cuda()\n",
    "print(count_params(model))"
   ]
  },
  {
   "cell_type": "code",
   "execution_count": null,
   "id": "b645f29f-6131-4120-b0ce-b337a4aa73c4",
   "metadata": {},
   "outputs": [],
   "source": []
  },
  {
   "cell_type": "code",
   "execution_count": null,
   "id": "2148f06d-7261-49b7-b9aa-4676fad467e6",
   "metadata": {},
   "outputs": [],
   "source": []
  },
  {
   "cell_type": "code",
   "execution_count": null,
   "id": "1f0e473c-351b-48e0-ac96-cefcb55efdae",
   "metadata": {},
   "outputs": [],
   "source": []
  },
  {
   "cell_type": "code",
   "execution_count": null,
   "id": "08e3c25f-33a6-411b-8758-aef98f43a50c",
   "metadata": {},
   "outputs": [],
   "source": []
  },
  {
   "cell_type": "code",
   "execution_count": null,
   "id": "6f582daf-ffca-4ae9-aee7-cb12afae08ee",
   "metadata": {},
   "outputs": [],
   "source": []
  },
  {
   "cell_type": "code",
   "execution_count": null,
   "id": "2a3ac0e4-3bf2-492a-b00f-e2db2c5dc767",
   "metadata": {},
   "outputs": [],
   "source": []
  },
  {
   "cell_type": "code",
   "execution_count": null,
   "id": "1156231c-196f-4999-8885-960b9c14bd24",
   "metadata": {},
   "outputs": [],
   "source": []
  },
  {
   "cell_type": "code",
   "execution_count": null,
   "id": "5791df72-f389-45e4-9989-579a2adff82f",
   "metadata": {},
   "outputs": [],
   "source": []
  },
  {
   "cell_type": "code",
   "execution_count": null,
   "id": "bfb9fb21-9b6e-4884-b216-a0e6868c04ad",
   "metadata": {},
   "outputs": [],
   "source": []
  },
  {
   "cell_type": "code",
   "execution_count": null,
   "id": "4e5c4a7a-c77e-4b42-96a5-dbfb127f0655",
   "metadata": {},
   "outputs": [],
   "source": []
  },
  {
   "cell_type": "code",
   "execution_count": null,
   "id": "8917c512-26c8-4f04-b932-584758ba5a58",
   "metadata": {},
   "outputs": [],
   "source": []
  },
  {
   "cell_type": "code",
   "execution_count": null,
   "id": "e0362428-cb1e-4c1d-9949-aa55229b4707",
   "metadata": {},
   "outputs": [],
   "source": []
  },
  {
   "cell_type": "code",
   "execution_count": null,
   "id": "4d35da05-c73c-4a31-8781-56ff5736b01e",
   "metadata": {},
   "outputs": [],
   "source": []
  },
  {
   "cell_type": "code",
   "execution_count": null,
   "id": "5622f274-be8e-4168-a534-63569bf445e1",
   "metadata": {},
   "outputs": [],
   "source": []
  },
  {
   "cell_type": "code",
   "execution_count": null,
   "id": "70fe0286-9de9-4439-adc2-5f6829e571b6",
   "metadata": {},
   "outputs": [],
   "source": []
  },
  {
   "cell_type": "code",
   "execution_count": null,
   "id": "e4fa64b4-b269-4171-bca2-aeec02b3d094",
   "metadata": {},
   "outputs": [],
   "source": []
  },
  {
   "cell_type": "code",
   "execution_count": null,
   "id": "4a85f569-bd43-408c-88f3-fc6e5dd2702d",
   "metadata": {},
   "outputs": [],
   "source": []
  },
  {
   "cell_type": "code",
   "execution_count": null,
   "id": "4a90eb36-4c16-4c63-9f41-0101e8c7452f",
   "metadata": {},
   "outputs": [],
   "source": []
  },
  {
   "cell_type": "code",
   "execution_count": null,
   "id": "76b0bc7e-5f53-46f9-9fdf-86e1f8503724",
   "metadata": {},
   "outputs": [],
   "source": []
  }
 ],
 "metadata": {
  "kernelspec": {
   "display_name": "Python 3",
   "language": "python",
   "name": "python3"
  },
  "language_info": {
   "codemirror_mode": {
    "name": "ipython",
    "version": 3
   },
   "file_extension": ".py",
   "mimetype": "text/x-python",
   "name": "python",
   "nbconvert_exporter": "python",
   "pygments_lexer": "ipython3",
   "version": "3.8.8"
  }
 },
 "nbformat": 4,
 "nbformat_minor": 5
}
